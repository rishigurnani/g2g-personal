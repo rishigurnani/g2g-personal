{
 "cells": [
  {
   "cell_type": "code",
   "execution_count": 1,
   "metadata": {},
   "outputs": [],
   "source": [
    "import pandas as pd\n",
    "import os\n",
    "import sys\n",
    "from props import *\n",
    "\n",
    "import time"
   ]
  },
  {
   "cell_type": "code",
   "execution_count": 7,
   "metadata": {},
   "outputs": [],
   "source": [
    "def polymerize(s):\n",
    "    '''\n",
    "    Turn monomer SMILES into polymer SMILES\n",
    "    '''\n",
    "    return '[*]' + s + '[*]'\n",
    "\n",
    "def save_smiles_df(l):\n",
    "    '''\n",
    "    Save df from list of SMILES\n",
    "    '''\n",
    "    n_smiles = len(l)\n",
    "    ID = list(range(n_smiles))\n",
    "    pd.DataFrame({\"ID\": ID, \"SMILES\": l}).to_csv('./smiles_df.csv')\n",
    "\n",
    "def create_fp_input():\n",
    "#     print('file_dataset = ./smiles_df.csv')\n",
    "#     print('col_smiles = SMILES')\n",
    "#     print('col_X = aT bT m e')\n",
    "#     print('col_id = ID')\n",
    "#     print('file_fingerprint = fp_df.csv')\n",
    "#     print('polymer_fp_version = 2')\n",
    "#     print('ismolecule = 0')\n",
    "#     print('drop_failed_rows = 0')\n",
    "#     print('ncore = 18')\n",
    "    f = ('file_dataset = ./smiles_df.csv\\n'\n",
    "    'col_smiles = SMILES\\n'\n",
    "    'col_X = aT bT m e\\n'\n",
    "    'col_id = ID\\n'\n",
    "    'file_fingerprint = fp_df.csv\\n'\n",
    "    'polymer_fp_version = 2\\n'\n",
    "    'ismolecule = 0\\n'\n",
    "    'drop_failed_rows = 0\\n'\n",
    "    'ncore = 18\\n')\n",
    "    text_file = open('fp_input', \"w\")\n",
    "    text_file.write(f)\n",
    "    text_file.close()\n",
    "\n",
    "def run_fp():\n",
    "    os.system('fp fp_input')\n",
    "\n",
    "def fix_fp():\n",
    "    df = pd.read_csv('fp_df.csv')\n",
    "    #df = df.iloc[df.dropna().index].reset_index().drop('index', axis=1)\n",
    "    df = df.iloc[df.dropna().index]\n",
    "    df = df.set_index('ID')\n",
    "    #use_cols = [col for col in df.keys() if col != 'ID' and 'Unnamed' not in col]\n",
    "    #df.drop_duplicates(subset=use_cols, inplace=True)\n",
    "    df.to_csv('fp_df_fixed.csv')\n",
    "    \n",
    "def create_pred_input(model_path):\n",
    "    f = ('file_model = ' + model_path + '\\n'\n",
    "    'file_fingerprint  = fp_df_fixed.csv\\n'\n",
    "    'file_output = output.csv\\n'\n",
    "    )\n",
    "    text_file = open('pred_input', \"w\")\n",
    "    text_file.write(f)\n",
    "    text_file.close()    \n",
    "\n",
    "def run_pred():\n",
    "    try:\n",
    "        os.system('predict pred_input > log')\n",
    "    except:\n",
    "        pass\n",
    "\n",
    "def get_pred():\n",
    "    \n",
    "    df = pd.read_csv('output.csv')\n",
    "    normed = df['y'].tolist()\n",
    "    original_scale = [(val*1.67668) + 4.34115 for val in normed]\n",
    "    return zip(df.index.to_list(), original_scale)\n",
    "\n",
    "def get_all_preds(l):\n",
    "    poly_l = [polymerize(i) for i in l]\n",
    "    save_smiles_df(poly_l)\n",
    "\n",
    "    create_fp_input()\n",
    "\n",
    "    run_fp()\n",
    "\n",
    "    fix_fp()\n",
    "    \n",
    "    create_pred_input(model_path)\n",
    "\n",
    "    run_pred()\n",
    "\n",
    "    return get_pred() "
   ]
  },
  {
   "cell_type": "code",
   "execution_count": 2,
   "metadata": {},
   "outputs": [],
   "source": [
    "model_path = '../models/trial2/all_features/model.pkl'"
   ]
  },
  {
   "cell_type": "code",
   "execution_count": 5,
   "metadata": {},
   "outputs": [],
   "source": [
    "os.chdir('/home/rgur/CS6250_project/g2g/polymers_trial3/lr_0.001_bs_32_depthT_6_depthG_8/results')"
   ]
  },
  {
   "cell_type": "code",
   "execution_count": null,
   "metadata": {},
   "outputs": [],
   "source": [
    "f = open('resu')"
   ]
  }
 ],
 "metadata": {
  "kernelspec": {
   "display_name": "Python (cse6250)",
   "language": "python",
   "name": "cse6250"
  },
  "language_info": {
   "codemirror_mode": {
    "name": "ipython",
    "version": 2
   },
   "file_extension": ".py",
   "mimetype": "text/x-python",
   "name": "python",
   "nbconvert_exporter": "python",
   "pygments_lexer": "ipython2",
   "version": "2.7.17"
  }
 },
 "nbformat": 4,
 "nbformat_minor": 2
}
