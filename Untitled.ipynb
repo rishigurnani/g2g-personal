{
 "cells": [
  {
   "cell_type": "code",
   "execution_count": 15,
   "metadata": {},
   "outputs": [],
   "source": [
    "import numpy as np\n",
    "import rdkit\n",
    "from rdkit import Chem, DataStructs\n",
    "from rdkit.Chem import AllChem\n",
    "\n",
    "# Tanimoto similarity function\n",
    "def similarity(a, b):\n",
    "    if a is None or b is None:\n",
    "        return 0.0\n",
    "    amol = Chem.MolFromSmiles(a)\n",
    "    bmol = Chem.MolFromSmiles(b)\n",
    "    if amol is None or bmol is None:\n",
    "        return 0.0\n",
    "    fp1 = AllChem.GetMorganFingerprintAsBitVect(amol, 2, nBits=2048, useChirality=False)\n",
    "    fp2 = AllChem.GetMorganFingerprintAsBitVect(bmol, 2, nBits=2048, useChirality=False)\n",
    "    return DataStructs.TanimotoSimilarity(fp1, fp2)\n",
    "\n",
    "def diversity(pairs):\n",
    "    diversity_values = []\n",
    "    sources = set()\n",
    "    decoded = {}\n",
    "    # Build decoded dictionary that maps source polymers to the list of translated polymers\n",
    "    for pair in pairs:\n",
    "        source = pair[0]\n",
    "        translated = pair[1]\n",
    "        sources.add(source)\n",
    "        if source in decoded:\n",
    "            decoded[source].append(translated)\n",
    "        else:\n",
    "            decoded[source] = [translated]\n",
    "\n",
    "    # Iterate over source molecules in dictionary and determine individual diversity scores\n",
    "    for source in decoded:\n",
    "        div = 0.0\n",
    "        total = 0\n",
    "        test_list = decoded[source]\n",
    "        if len(test_list) > 1:\n",
    "            for test in test_list:\n",
    "                div += 1 - similarity(source, test)\n",
    "                total += 1\n",
    "            div /= total\n",
    "        diversity_values.append(div)\n",
    "    sources = list(sources)\n",
    "    print 'Number of source polymers: ' + str(len(sources))\n",
    "    return np.mean(diversity_values)"
   ]
  },
  {
   "cell_type": "code",
   "execution_count": 16,
   "metadata": {},
   "outputs": [],
   "source": [
    "pairs = [('CC', 'C1=CC(C)=CC=C1C'),\n",
    "        ('CC', 'CCC(C)=O'),\n",
    "        ('CCC(C)C1=CC=CC=C1', 'CC'),\n",
    "        ('CCC(C)=O', 'CC'),\n",
    "        ('CCC(C)=O', 'CCC(C)C1=CC=CC=C1')]"
   ]
  },
  {
   "cell_type": "code",
   "execution_count": 17,
   "metadata": {},
   "outputs": [
    {
     "name": "stdout",
     "output_type": "stream",
     "text": [
      "Number of source polymers: 3\n"
     ]
    },
    {
     "data": {
      "text/plain": [
       "0.5978451178451178"
      ]
     },
     "execution_count": 17,
     "metadata": {},
     "output_type": "execute_result"
    }
   ],
   "source": [
    "diversity(pairs)"
   ]
  },
  {
   "cell_type": "code",
   "execution_count": 18,
   "metadata": {},
   "outputs": [],
   "source": [
    "def tail( f, lines=20 ):\n",
    "    total_lines_wanted = lines\n",
    "\n",
    "    BLOCK_SIZE = 1024\n",
    "    f.seek(0, 2)\n",
    "    block_end_byte = f.tell()\n",
    "    lines_to_go = total_lines_wanted\n",
    "    block_number = -1\n",
    "    blocks = [] # blocks of size BLOCK_SIZE, in reverse order starting\n",
    "                # from the end of the file\n",
    "    while lines_to_go > 0 and block_end_byte > 0:\n",
    "        if (block_end_byte - BLOCK_SIZE > 0):\n",
    "            # read the last block we haven't yet read\n",
    "            f.seek(block_number*BLOCK_SIZE, 2)\n",
    "            blocks.append(f.read(BLOCK_SIZE))\n",
    "        else:\n",
    "            # file too small, start from begining\n",
    "            f.seek(0,0)\n",
    "            # only read what was not read\n",
    "            blocks.append(f.read(block_end_byte))\n",
    "        lines_found = blocks[-1].count('\\n')\n",
    "        lines_to_go -= lines_found\n",
    "        block_end_byte -= BLOCK_SIZE\n",
    "        block_number -= 1\n",
    "    all_read_text = ''.join(reversed(blocks))\n",
    "    return '\\n'.join(all_read_text.splitlines()[-total_lines_wanted:])"
   ]
  },
  {
   "cell_type": "code",
   "execution_count": 19,
   "metadata": {},
   "outputs": [],
   "source": [
    "with open('/home/rgur/CS6250_project/g2g/polymers_trial3/lr_0.001_bs_8_depthT_3_depthG_3/test/analyze.5', 'r') as f:\n",
    "    lines = tail(f, 2)"
   ]
  },
  {
   "cell_type": "code",
   "execution_count": 20,
   "metadata": {},
   "outputs": [
    {
     "data": {
      "text/plain": [
       "'success rate 0.00389321468298\\ndiversity score 0.0'"
      ]
     },
     "execution_count": 20,
     "metadata": {},
     "output_type": "execute_result"
    }
   ],
   "source": [
    "lines"
   ]
  },
  {
   "cell_type": "code",
   "execution_count": 25,
   "metadata": {},
   "outputs": [],
   "source": [
    "split_lines = lines.split('\\n')"
   ]
  },
  {
   "cell_type": "code",
   "execution_count": 27,
   "metadata": {},
   "outputs": [
    {
     "data": {
      "text/plain": [
       "['success', 'rate', '0.00389321468298']"
      ]
     },
     "execution_count": 27,
     "metadata": {},
     "output_type": "execute_result"
    }
   ],
   "source": [
    "split_lines[0].split()"
   ]
  },
  {
   "cell_type": "code",
   "execution_count": 28,
   "metadata": {},
   "outputs": [
    {
     "data": {
      "text/plain": [
       "0.00389321468298"
      ]
     },
     "execution_count": 28,
     "metadata": {},
     "output_type": "execute_result"
    }
   ],
   "source": [
    "acc = float(split_lines[0].split()[2])\n",
    "acc"
   ]
  },
  {
   "cell_type": "code",
   "execution_count": 29,
   "metadata": {},
   "outputs": [
    {
     "data": {
      "text/plain": [
       "0.0"
      ]
     },
     "execution_count": 29,
     "metadata": {},
     "output_type": "execute_result"
    }
   ],
   "source": [
    "div = float(split_lines[1].split()[2])\n",
    "div"
   ]
  },
  {
   "cell_type": "code",
   "execution_count": null,
   "metadata": {},
   "outputs": [],
   "source": []
  }
 ],
 "metadata": {
  "kernelspec": {
   "display_name": "Python (cse6250)",
   "language": "python",
   "name": "cse6250"
  },
  "language_info": {
   "codemirror_mode": {
    "name": "ipython",
    "version": 2
   },
   "file_extension": ".py",
   "mimetype": "text/x-python",
   "name": "python",
   "nbconvert_exporter": "python",
   "pygments_lexer": "ipython2",
   "version": "2.7.17"
  }
 },
 "nbformat": 4,
 "nbformat_minor": 2
}
