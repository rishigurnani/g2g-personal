{
 "cells": [
  {
   "cell_type": "code",
   "execution_count": 1,
   "metadata": {},
   "outputs": [],
   "source": [
    "import sys\n",
    "import argparse\n",
    "import io\n",
    "import pandas as pd\n",
    "import numpy as np\n",
    "import rdkit\n",
    "from rdkit import Chem, DataStructs\n",
    "from rdkit.Chem import AllChem"
   ]
  },
  {
   "cell_type": "code",
   "execution_count": 2,
   "metadata": {},
   "outputs": [],
   "source": [
    "import os"
   ]
  },
  {
   "cell_type": "code",
   "execution_count": 3,
   "metadata": {},
   "outputs": [
    {
     "data": {
      "text/plain": [
       "'/home/rgur/CS6250_project/scripts'"
      ]
     },
     "execution_count": 3,
     "metadata": {},
     "output_type": "execute_result"
    }
   ],
   "source": [
    "os.getcwd()"
   ]
  },
  {
   "cell_type": "code",
   "execution_count": 4,
   "metadata": {},
   "outputs": [],
   "source": [
    "os.chdir('/home/rgur/CS6250_project/g2g/polymers_trial3/lr_0.001_bs_8_depthT_6_depthG_3/results')"
   ]
  },
  {
   "cell_type": "code",
   "execution_count": 5,
   "metadata": {},
   "outputs": [],
   "source": [
    "stdin = open('results.test', 'r')\n",
    "num_decode = 5\n",
    "sim_delta = .2\n",
    "prop_delta = 6\n",
    "total_n = 899\n",
    "mols_path = '../../data/mols.txt'"
   ]
  },
  {
   "cell_type": "code",
   "execution_count": 6,
   "metadata": {},
   "outputs": [],
   "source": [
    "# Tanimoto similarity function\n",
    "def similarity(a, b):\n",
    "    if a is None or b is None:\n",
    "        return 0.0\n",
    "    amol = Chem.MolFromSmiles(a)\n",
    "    bmol = Chem.MolFromSmiles(b)\n",
    "    if amol is None or bmol is None:\n",
    "        return 0.0\n",
    "    fp1 = AllChem.GetMorganFingerprintAsBitVect(amol, 2, nBits=2048, useChirality=False)\n",
    "    fp2 = AllChem.GetMorganFingerprintAsBitVect(bmol, 2, nBits=2048, useChirality=False)\n",
    "    return DataStructs.TanimotoSimilarity(fp1, fp2)\n",
    "\n",
    "def diversity(pairs):\n",
    "    diversity_values = []\n",
    "    sources = set()\n",
    "    decoded = {}\n",
    "    # Build decoded dictionary that maps source polymers to the list of translated polymers\n",
    "    for pair in pairs:\n",
    "        source = pair[0]\n",
    "        translated = pair[1]\n",
    "        sources.add(source)\n",
    "        if source in decoded:\n",
    "            decoded[source].append(translated)\n",
    "        else:\n",
    "            decoded[source] = [translated]\n",
    "\n",
    "    # Iterate over source molecules in dictionary and determine individual diversity scores\n",
    "    for source in decoded:\n",
    "        div = 0.0\n",
    "        total = 0\n",
    "        test_list = decoded[source]\n",
    "        if len(test_list) > 1:\n",
    "            for test in test_list:\n",
    "                div += 1 - similarity(source, test)\n",
    "                total += 1\n",
    "            div /= total\n",
    "        diversity_values.append(div)\n",
    "    sources = list(sources)\n",
    "    print 'Number of source polymers: ' + str(len(sources))\n",
    "    return np.mean(diversity_values)"
   ]
  },
  {
   "cell_type": "code",
   "execution_count": 7,
   "metadata": {},
   "outputs": [
    {
     "data": {
      "text/plain": [
       "['CC(C1=CC=CC=C1)CC(C2=CC=CC=C2)CC(C3=CC=CC=C3)CC(C4=CC=CC=C4)CC(C1=CC=CC=C1)CC(C2=CC=CC=C2)CC(C3=CC=CC=C3)CC(C4=CC=CC=C4)CC(C1=CC=CC=C1)CC(C2=CC=CC=C2)CC(C3=CC=CC=C3)CC(C4=CC=CC=C4)',\n",
       " 'CCCCCOC(=O)CCCCCOC(=O)CCCCCOC(=O)CCCCCOC(=O)CCCCCOC(=O)CCCCCOC(=O)',\n",
       " 'CCC(C(F)(F)(F))(C(F)(F)(F))OCCC(C(F)(F)(F))(C(F)(F)(F))OCCC(C(F)(F)(F))(C(F)(F)(F))OCCC(C(F)(F)(F))(C(F)(F)(F))OCCC(C(F)(F)(F))(C(F)(F)(F))OCCC(C(F)(F)(F))(C(F)(F)(F))O',\n",
       " 'CC(=O)OCC(=O)OCC(=O)OCC(=O)OCC(=O)OCC(=O)O',\n",
       " 'C(C=C1)=CC=C1SC(C=C2)=CC=C2SC(C=C1)=CC=C1SC(C=C2)=CC=C2SC(C=C1)=CC=C1SC(C=C2)=CC=C2S']"
      ]
     },
     "execution_count": 7,
     "metadata": {},
     "output_type": "execute_result"
    }
   ],
   "source": [
    "mols = []\n",
    "for line in open(mols_path, 'r'):\n",
    "    mols.append(line.strip())\n",
    "mols[0:5]"
   ]
  },
  {
   "cell_type": "code",
   "execution_count": 8,
   "metadata": {},
   "outputs": [
    {
     "data": {
      "text/plain": [
       "[['0',\n",
       "  'C(=O)Nc1cccc(NC(=O)c2ccc3[nH]c(-c4ccc(-c5nc6ccccc6[nH]5)cc4)nc3c2)c1C(=O)Nc1cccc(NC(=O)c2ccc3[nH]c(-c4ccc(-c5nc6ccccc6[nH]5)cc4)nc3c2)c1C(=O)Nc1cccc(NC(=O)c2ccc3[nH]c(-c4ccc(-c5nc6ccccc6[nH]5)cc4)nc3c2)c1',\n",
       "  'O=C(O)CCCCCC(=O)OCCCCC(=O)OCCCCC(=O)OCCCCC(=O)OCCCCC(=O)O',\n",
       "  '0.0405405405405',\n",
       "  '6.7986934096'],\n",
       " ['2',\n",
       "  'C(=O)Nc1cccc(NC(=O)c2ccc3[nH]c(-c4ccc(-c5nc6ccccc6[nH]5)cc4)nc3c2)c1C(=O)Nc1cccc(NC(=O)c2ccc3[nH]c(-c4ccc(-c5nc6ccccc6[nH]5)cc4)nc3c2)c1C(=O)Nc1cccc(NC(=O)c2ccc3[nH]c(-c4ccc(-c5nc6ccccc6[nH]5)cc4)nc3c2)c1',\n",
       "  'O=C(O)CCCCC(=O)OCCCCC(=O)OCCCCC(=O)OCCCC(=O)OCCCC(=O)O',\n",
       "  '0.2405405405405',\n",
       "  '6.7986934096'],\n",
       " ['17',\n",
       "  'Nc1ccc(C(=O)c2ccc(NC(=O)c3ccc(C=O)cc3)cc2)cc1Nc1ccc(C(=O)c2ccc(NC(=O)c3ccc(C=O)cc3)cc2)cc1Nc1ccc(C(=O)c2ccc(NC(=O)c3ccc(C=O)cc3)cc2)cc1',\n",
       "  'O=C(O)CCCCC(=O)OCCCCC(=O)OCCCCC(=O)OCCCC(=O)O',\n",
       "  '0.2483870967742',\n",
       "  '6.68117658508'],\n",
       " ['19',\n",
       "  'Nc1ccc(C(=O)c2ccc(NC(=O)c3ccc(C=O)cc3)cc2)cc1Nc1ccc(C(=O)c2ccc(NC(=O)c3ccc(C=O)cc3)cc2)cc1Nc1ccc(C(=O)c2ccc(NC(=O)c3ccc(C=O)cc3)cc2)cc1',\n",
       "  'O=C(O)CCCCCCC(=O)OCCCCCC(=O)OCCCCCC(=O)OCCCCCC(=O)O',\n",
       "  '0.2483870967742',\n",
       "  '6.7986934096'],\n",
       " ['89',\n",
       "  'c1ccc(N(c2ccc(C#N)cc2)c2ccc(N3C(=O)c4ccc(-c5ccc6c(c5)C(=O)NC6=O)cc4C3=O)cc2)cc1c1ccc(N(c2ccc(C#N)cc2)c2ccc(N3C(=O)c4ccc(-c5ccc6c(c5)C(=O)NC6=O)cc4C3=O)cc2)cc1c1ccc(N(c2ccc(C#N)cc2)c2ccc(N3C(=O)c4ccc(-c5ccc6c(c5)C(=O)NC6=O)cc4C3=O)cc2)cc1',\n",
       "  'CCCCCCOC(=O)NCNCNCNCNCNCNCNCNC(=O)OCCCC(=O)OCCCC(=O)O',\n",
       "  '0.2224719101124',\n",
       "  '6.6999118074']]"
      ]
     },
     "execution_count": 8,
     "metadata": {},
     "output_type": "execute_result"
    }
   ],
   "source": [
    "data = []\n",
    "start_append = False\n",
    "\n",
    "len_d = total_n\n",
    "for line in stdin:\n",
    "    if 'Done' in line:\n",
    "        start_append = True\n",
    "    elif start_append:\n",
    "            data.append(line.split())\n",
    "data"
   ]
  },
  {
   "cell_type": "code",
   "execution_count": 9,
   "metadata": {},
   "outputs": [],
   "source": [
    "\n",
    "#data = [line.split() for line in sys.stdin]\n",
    "data = [(int(e),a,b,float(c),float(d)) for e,a,b,c,d in data]"
   ]
  },
  {
   "cell_type": "code",
   "execution_count": 11,
   "metadata": {},
   "outputs": [],
   "source": [
    "n_mols = len_d\n",
    "\n",
    "n_succ = 0.0\n",
    "\n",
    "#load fp_df_fixed\n",
    "fp_df = pd.read_csv('./fp_df_fixed.csv')\n",
    "ignore_cols = [col for col in fp_df.keys() if col == 'ID' or 'Unnamed' in col]\n",
    "fp_df =fp_df.drop(ignore_cols, axis=1)"
   ]
  },
  {
   "cell_type": "code",
   "execution_count": 12,
   "metadata": {},
   "outputs": [],
   "source": [
    "def build_dict(data):\n",
    "    '''\n",
    "    Build a dictionary for all successful pairs\n",
    "    '''\n",
    "    d = {}\n",
    "    for i in data:\n",
    "        ind = i[0]\n",
    "        x = i[1]\n",
    "        y = i[2]\n",
    "        sim = i[3]\n",
    "        bg = i[4]\n",
    "        if x in d:\n",
    "            d[x].append((ind, y, sim, bg))\n",
    "        else:\n",
    "            d[x] = [(ind, y, sim, bg)]\n",
    "    return d\n",
    "\n",
    "data_d = build_dict(data)"
   ]
  },
  {
   "cell_type": "code",
   "execution_count": 72,
   "metadata": {},
   "outputs": [
    {
     "data": {
      "text/html": [
       "<div>\n",
       "<style scoped>\n",
       "    .dataframe tbody tr th:only-of-type {\n",
       "        vertical-align: middle;\n",
       "    }\n",
       "\n",
       "    .dataframe tbody tr th {\n",
       "        vertical-align: top;\n",
       "    }\n",
       "\n",
       "    .dataframe thead th {\n",
       "        text-align: right;\n",
       "    }\n",
       "</style>\n",
       "<table border=\"1\" class=\"dataframe\">\n",
       "  <thead>\n",
       "    <tr style=\"text-align: right;\">\n",
       "      <th></th>\n",
       "      <th>afp_C3_C4_C3</th>\n",
       "      <th>afp_C3_C4_C4</th>\n",
       "      <th>afp_C3_C4_H1</th>\n",
       "      <th>afp_C3_C4_N3</th>\n",
       "      <th>afp_C3_C4_O2</th>\n",
       "      <th>afp_C3_N3_C3</th>\n",
       "      <th>afp_C3_N3_C4</th>\n",
       "      <th>afp_C3_N3_H1</th>\n",
       "      <th>afp_C3_N3_O2</th>\n",
       "      <th>afp_C3_O2_C3</th>\n",
       "      <th>...</th>\n",
       "      <th>mfp_MQNs36</th>\n",
       "      <th>mfp_MQNs37</th>\n",
       "      <th>mfp_MQNs38</th>\n",
       "      <th>mfp_MQNs39</th>\n",
       "      <th>mfp_MQNs40</th>\n",
       "      <th>mfp_MQNs41</th>\n",
       "      <th>mfp_MQNs42</th>\n",
       "      <th>mfp_NumAliphaticRings</th>\n",
       "      <th>mfp_NumAromaticRings</th>\n",
       "      <th>mfp_tpsa</th>\n",
       "    </tr>\n",
       "  </thead>\n",
       "  <tbody>\n",
       "    <tr>\n",
       "      <th>0</th>\n",
       "      <td>0.0</td>\n",
       "      <td>0.037037</td>\n",
       "      <td>0.074074</td>\n",
       "      <td>0.0</td>\n",
       "      <td>0.000000</td>\n",
       "      <td>0.0</td>\n",
       "      <td>0.0</td>\n",
       "      <td>0.0</td>\n",
       "      <td>0.0</td>\n",
       "      <td>0.0</td>\n",
       "      <td>...</td>\n",
       "      <td>0.0</td>\n",
       "      <td>0.0</td>\n",
       "      <td>0.0</td>\n",
       "      <td>0.0</td>\n",
       "      <td>0.0</td>\n",
       "      <td>0.0</td>\n",
       "      <td>0.0</td>\n",
       "      <td>0.0</td>\n",
       "      <td>0.0</td>\n",
       "      <td>0.243519</td>\n",
       "    </tr>\n",
       "    <tr>\n",
       "      <th>2</th>\n",
       "      <td>0.0</td>\n",
       "      <td>0.028571</td>\n",
       "      <td>0.057143</td>\n",
       "      <td>0.0</td>\n",
       "      <td>0.000000</td>\n",
       "      <td>0.0</td>\n",
       "      <td>0.0</td>\n",
       "      <td>0.0</td>\n",
       "      <td>0.0</td>\n",
       "      <td>0.0</td>\n",
       "      <td>...</td>\n",
       "      <td>0.0</td>\n",
       "      <td>0.0</td>\n",
       "      <td>0.0</td>\n",
       "      <td>0.0</td>\n",
       "      <td>0.0</td>\n",
       "      <td>0.0</td>\n",
       "      <td>0.0</td>\n",
       "      <td>0.0</td>\n",
       "      <td>0.0</td>\n",
       "      <td>0.187857</td>\n",
       "    </tr>\n",
       "    <tr>\n",
       "      <th>17</th>\n",
       "      <td>0.0</td>\n",
       "      <td>0.029412</td>\n",
       "      <td>0.058824</td>\n",
       "      <td>0.0</td>\n",
       "      <td>0.000000</td>\n",
       "      <td>0.0</td>\n",
       "      <td>0.0</td>\n",
       "      <td>0.0</td>\n",
       "      <td>0.0</td>\n",
       "      <td>0.0</td>\n",
       "      <td>...</td>\n",
       "      <td>0.0</td>\n",
       "      <td>0.0</td>\n",
       "      <td>0.0</td>\n",
       "      <td>0.0</td>\n",
       "      <td>0.0</td>\n",
       "      <td>0.0</td>\n",
       "      <td>0.0</td>\n",
       "      <td>0.0</td>\n",
       "      <td>0.0</td>\n",
       "      <td>0.193382</td>\n",
       "    </tr>\n",
       "    <tr>\n",
       "      <th>19</th>\n",
       "      <td>0.0</td>\n",
       "      <td>0.000000</td>\n",
       "      <td>0.000000</td>\n",
       "      <td>0.0</td>\n",
       "      <td>0.000000</td>\n",
       "      <td>0.0</td>\n",
       "      <td>0.0</td>\n",
       "      <td>0.0</td>\n",
       "      <td>0.0</td>\n",
       "      <td>0.0</td>\n",
       "      <td>...</td>\n",
       "      <td>0.0</td>\n",
       "      <td>0.0</td>\n",
       "      <td>0.0</td>\n",
       "      <td>0.0</td>\n",
       "      <td>0.0</td>\n",
       "      <td>0.0</td>\n",
       "      <td>0.0</td>\n",
       "      <td>0.0</td>\n",
       "      <td>0.0</td>\n",
       "      <td>0.000000</td>\n",
       "    </tr>\n",
       "    <tr>\n",
       "      <th>89</th>\n",
       "      <td>0.0</td>\n",
       "      <td>0.000000</td>\n",
       "      <td>0.333333</td>\n",
       "      <td>0.0</td>\n",
       "      <td>0.166667</td>\n",
       "      <td>0.0</td>\n",
       "      <td>0.0</td>\n",
       "      <td>0.0</td>\n",
       "      <td>0.0</td>\n",
       "      <td>0.0</td>\n",
       "      <td>...</td>\n",
       "      <td>0.0</td>\n",
       "      <td>0.0</td>\n",
       "      <td>0.0</td>\n",
       "      <td>0.0</td>\n",
       "      <td>0.0</td>\n",
       "      <td>0.0</td>\n",
       "      <td>0.0</td>\n",
       "      <td>0.0</td>\n",
       "      <td>0.0</td>\n",
       "      <td>1.095833</td>\n",
       "    </tr>\n",
       "  </tbody>\n",
       "</table>\n",
       "<p>5 rows × 132 columns</p>\n",
       "</div>"
      ],
      "text/plain": [
       "    afp_C3_C4_C3  afp_C3_C4_C4  afp_C3_C4_H1  afp_C3_C4_N3  afp_C3_C4_O2  \\\n",
       "0            0.0      0.037037      0.074074           0.0      0.000000   \n",
       "2            0.0      0.028571      0.057143           0.0      0.000000   \n",
       "17           0.0      0.029412      0.058824           0.0      0.000000   \n",
       "19           0.0      0.000000      0.000000           0.0      0.000000   \n",
       "89           0.0      0.000000      0.333333           0.0      0.166667   \n",
       "\n",
       "    afp_C3_N3_C3  afp_C3_N3_C4  afp_C3_N3_H1  afp_C3_N3_O2  afp_C3_O2_C3  ...  \\\n",
       "0            0.0           0.0           0.0           0.0           0.0  ...   \n",
       "2            0.0           0.0           0.0           0.0           0.0  ...   \n",
       "17           0.0           0.0           0.0           0.0           0.0  ...   \n",
       "19           0.0           0.0           0.0           0.0           0.0  ...   \n",
       "89           0.0           0.0           0.0           0.0           0.0  ...   \n",
       "\n",
       "    mfp_MQNs36  mfp_MQNs37  mfp_MQNs38  mfp_MQNs39  mfp_MQNs40  mfp_MQNs41  \\\n",
       "0          0.0         0.0         0.0         0.0         0.0         0.0   \n",
       "2          0.0         0.0         0.0         0.0         0.0         0.0   \n",
       "17         0.0         0.0         0.0         0.0         0.0         0.0   \n",
       "19         0.0         0.0         0.0         0.0         0.0         0.0   \n",
       "89         0.0         0.0         0.0         0.0         0.0         0.0   \n",
       "\n",
       "    mfp_MQNs42  mfp_NumAliphaticRings  mfp_NumAromaticRings  mfp_tpsa  \n",
       "0          0.0                    0.0                   0.0  0.243519  \n",
       "2          0.0                    0.0                   0.0  0.187857  \n",
       "17         0.0                    0.0                   0.0  0.193382  \n",
       "19         0.0                    0.0                   0.0  0.000000  \n",
       "89         0.0                    0.0                   0.0  1.095833  \n",
       "\n",
       "[5 rows x 132 columns]"
      ]
     },
     "execution_count": 72,
     "metadata": {},
     "output_type": "execute_result"
    }
   ],
   "source": [
    "fps = fp_df.iloc[pd.Index([x[0] for x in data]), :]\n",
    "fps"
   ]
  },
  {
   "cell_type": "code",
   "execution_count": 53,
   "metadata": {},
   "outputs": [],
   "source": [
    "new_targets = []\n",
    "pairs = []\n",
    "caught = []"
   ]
  },
  {
   "cell_type": "code",
   "execution_count": 55,
   "metadata": {},
   "outputs": [
    {
     "name": "stdout",
     "output_type": "stream",
     "text": [
      "2 C(=O)Nc1cccc(NC(=O)c2ccc3[nH]c(-c4ccc(-c5nc6ccccc6[nH]5)cc4)nc3c2)c1C(=O)Nc1cccc(NC(=O)c2ccc3[nH]c(-c4ccc(-c5nc6ccccc6[nH]5)cc4)nc3c2)c1C(=O)Nc1cccc(NC(=O)c2ccc3[nH]c(-c4ccc(-c5nc6ccccc6[nH]5)cc4)nc3c2)c1 O=C(O)CCCCC(=O)OCCCCC(=O)OCCCCC(=O)OCCCC(=O)OCCCC(=O)O\n",
      "89 c1ccc(N(c2ccc(C#N)cc2)c2ccc(N3C(=O)c4ccc(-c5ccc6c(c5)C(=O)NC6=O)cc4C3=O)cc2)cc1c1ccc(N(c2ccc(C#N)cc2)c2ccc(N3C(=O)c4ccc(-c5ccc6c(c5)C(=O)NC6=O)cc4C3=O)cc2)cc1c1ccc(N(c2ccc(C#N)cc2)c2ccc(N3C(=O)c4ccc(-c5ccc6c(c5)C(=O)NC6=O)cc4C3=O)cc2)cc1 CCCCCCOC(=O)NCNCNCNCNCNCNCNCNC(=O)OCCCC(=O)OCCCC(=O)O\n",
      "17 Nc1ccc(C(=O)c2ccc(NC(=O)c3ccc(C=O)cc3)cc2)cc1Nc1ccc(C(=O)c2ccc(NC(=O)c3ccc(C=O)cc3)cc2)cc1Nc1ccc(C(=O)c2ccc(NC(=O)c3ccc(C=O)cc3)cc2)cc1 O=C(O)CCCCC(=O)OCCCCC(=O)OCCCCC(=O)OCCCC(=O)O\n",
      "19 Nc1ccc(C(=O)c2ccc(NC(=O)c3ccc(C=O)cc3)cc2)cc1Nc1ccc(C(=O)c2ccc(NC(=O)c3ccc(C=O)cc3)cc2)cc1Nc1ccc(C(=O)c2ccc(NC(=O)c3ccc(C=O)cc3)cc2)cc1 O=C(O)CCCCCCC(=O)OCCCCCC(=O)OCCCCCC(=O)OCCCCCC(=O)O\n"
     ]
    }
   ],
   "source": [
    "for x, val in zip(data_d.keys(), data_d.values()):\n",
    "    #print \"Values: %s\\n\" %val\n",
    "    good = [(ind,sim,bg,y) for ind,y,sim,bg in val if 1>sim>=sim_delta and bg>=prop_delta]\n",
    "    #print \"Good: %s\\n\" %good\n",
    "    for tup in good:\n",
    "        target = tup[3]\n",
    "        ind = tup[0]\n",
    "        #print \"Target %s\\n\" %target\n",
    "        if target not in mols:\n",
    "            #print \"target not in mols\\n\"\n",
    "            fp = fp_df.iloc[ind, :].tolist()\n",
    "            is_same = []\n",
    "            for other in new_targets:\n",
    "                #print \"Other %s\\n\" %other[0:10]\n",
    "                #print \"New fp %s\\n\" %fp[0:10]\n",
    "                result = (np.abs(np.subtract(other, fp)) < .001).all()\n",
    "                #print \"Bool %s\\n\" %result\n",
    "                is_same.append(result)\n",
    "\n",
    "            #print \"Is same: %s\" %is_same\n",
    "            if not any(is_same):\n",
    "                new_targets.append(fp)\n",
    "                #print \"new_targets %s\\n\" %[i[0:10] for i in new_targets]\n",
    "                pairs.append((x, target))\n",
    "                \n",
    "                n_succ += 1\n",
    "                print '%s %s %s' %(ind, x, target)\n",
    "            else:\n",
    "                #print \"Target already in new targets\\n\"\n",
    "                #print \"new_targets %s\\n\" %[i[0:10] for i in new_targets]\n",
    "                caught.append(target)\n",
    "        else:\n",
    "            print \"target in mols\""
   ]
  },
  {
   "cell_type": "code",
   "execution_count": 49,
   "metadata": {},
   "outputs": [
    {
     "data": {
      "text/plain": [
       "[(0,\n",
       "  'C(=O)Nc1cccc(NC(=O)c2ccc3[nH]c(-c4ccc(-c5nc6ccccc6[nH]5)cc4)nc3c2)c1C(=O)Nc1cccc(NC(=O)c2ccc3[nH]c(-c4ccc(-c5nc6ccccc6[nH]5)cc4)nc3c2)c1C(=O)Nc1cccc(NC(=O)c2ccc3[nH]c(-c4ccc(-c5nc6ccccc6[nH]5)cc4)nc3c2)c1',\n",
       "  'O=C(O)CCCCCC(=O)OCCCCC(=O)OCCCCC(=O)OCCCCC(=O)OCCCCC(=O)O',\n",
       "  0.0405405405405,\n",
       "  6.7986934096),\n",
       " (2,\n",
       "  'C(=O)Nc1cccc(NC(=O)c2ccc3[nH]c(-c4ccc(-c5nc6ccccc6[nH]5)cc4)nc3c2)c1C(=O)Nc1cccc(NC(=O)c2ccc3[nH]c(-c4ccc(-c5nc6ccccc6[nH]5)cc4)nc3c2)c1C(=O)Nc1cccc(NC(=O)c2ccc3[nH]c(-c4ccc(-c5nc6ccccc6[nH]5)cc4)nc3c2)c1',\n",
       "  'O=C(O)CCCCC(=O)OCCCCC(=O)OCCCCC(=O)OCCCC(=O)OCCCC(=O)O',\n",
       "  0.2405405405405,\n",
       "  6.7986934096),\n",
       " (17,\n",
       "  'Nc1ccc(C(=O)c2ccc(NC(=O)c3ccc(C=O)cc3)cc2)cc1Nc1ccc(C(=O)c2ccc(NC(=O)c3ccc(C=O)cc3)cc2)cc1Nc1ccc(C(=O)c2ccc(NC(=O)c3ccc(C=O)cc3)cc2)cc1',\n",
       "  'O=C(O)CCCCC(=O)OCCCCC(=O)OCCCCC(=O)OCCCC(=O)O',\n",
       "  0.2483870967742,\n",
       "  6.68117658508),\n",
       " (19,\n",
       "  'Nc1ccc(C(=O)c2ccc(NC(=O)c3ccc(C=O)cc3)cc2)cc1Nc1ccc(C(=O)c2ccc(NC(=O)c3ccc(C=O)cc3)cc2)cc1Nc1ccc(C(=O)c2ccc(NC(=O)c3ccc(C=O)cc3)cc2)cc1',\n",
       "  'O=C(O)CCCCCCC(=O)OCCCCCC(=O)OCCCCCC(=O)OCCCCCC(=O)O',\n",
       "  0.2483870967742,\n",
       "  6.7986934096),\n",
       " (89,\n",
       "  'c1ccc(N(c2ccc(C#N)cc2)c2ccc(N3C(=O)c4ccc(-c5ccc6c(c5)C(=O)NC6=O)cc4C3=O)cc2)cc1c1ccc(N(c2ccc(C#N)cc2)c2ccc(N3C(=O)c4ccc(-c5ccc6c(c5)C(=O)NC6=O)cc4C3=O)cc2)cc1c1ccc(N(c2ccc(C#N)cc2)c2ccc(N3C(=O)c4ccc(-c5ccc6c(c5)C(=O)NC6=O)cc4C3=O)cc2)cc1',\n",
       "  'CCCCCCOC(=O)NCNCNCNCNCNCNCNCNC(=O)OCCCC(=O)OCCCC(=O)O',\n",
       "  0.2224719101124,\n",
       "  6.6999118074)]"
      ]
     },
     "execution_count": 49,
     "metadata": {},
     "output_type": "execute_result"
    }
   ],
   "source": [
    "data"
   ]
  },
  {
   "cell_type": "code",
   "execution_count": null,
   "metadata": {},
   "outputs": [],
   "source": []
  }
 ],
 "metadata": {
  "kernelspec": {
   "display_name": "Python (cse6250)",
   "language": "python",
   "name": "cse6250"
  },
  "language_info": {
   "codemirror_mode": {
    "name": "ipython",
    "version": 2
   },
   "file_extension": ".py",
   "mimetype": "text/x-python",
   "name": "python",
   "nbconvert_exporter": "python",
   "pygments_lexer": "ipython2",
   "version": "2.7.17"
  }
 },
 "nbformat": 4,
 "nbformat_minor": 2
}
