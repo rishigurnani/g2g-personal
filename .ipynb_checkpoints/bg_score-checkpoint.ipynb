{
 "cells": [
  {
   "cell_type": "markdown",
   "metadata": {},
   "source": [
    "# Import"
   ]
  },
  {
   "cell_type": "code",
   "execution_count": 1,
   "metadata": {},
   "outputs": [],
   "source": [
    "import pandas as pd\n",
    "import os\n",
    "import sys\n",
    "from props import *"
   ]
  },
  {
   "cell_type": "code",
   "execution_count": 4,
   "metadata": {},
   "outputs": [],
   "source": [
    "import time"
   ]
  },
  {
   "cell_type": "markdown",
   "metadata": {},
   "source": [
    "# Load data"
   ]
  },
  {
   "cell_type": "code",
   "execution_count": 16,
   "metadata": {},
   "outputs": [],
   "source": [
    "#input is list of SMILES string"
   ]
  },
  {
   "cell_type": "code",
   "execution_count": 17,
   "metadata": {},
   "outputs": [],
   "source": [
    "l = ['CCCC', 'CC(CC)C1=CC=CC=C1']"
   ]
  },
  {
   "cell_type": "code",
   "execution_count": 19,
   "metadata": {},
   "outputs": [],
   "source": [
    "model_path = '/home/rgur/CS6250_project/models/trial2/all_features/model.pkl'"
   ]
  },
  {
   "cell_type": "markdown",
   "metadata": {},
   "source": [
    "# Write functions"
   ]
  },
  {
   "cell_type": "code",
   "execution_count": 4,
   "metadata": {},
   "outputs": [],
   "source": [
    "def polymerize(s):\n",
    "    '''\n",
    "    Turn monomer SMILES into polymer SMILES\n",
    "    '''\n",
    "    return '[*]' + s + '[*]'"
   ]
  },
  {
   "cell_type": "code",
   "execution_count": 12,
   "metadata": {},
   "outputs": [],
   "source": [
    "def save_fp_df(l):\n",
    "    '''\n",
    "    Save df from list of SMILES\n",
    "    '''\n",
    "    n_smiles = len(l)\n",
    "    ID = list(range(n_smiles))\n",
    "    pd.DataFrame({\"ID\": ID, \"SMILES\": l}).to_csv('./smiles_df.csv')"
   ]
  },
  {
   "cell_type": "code",
   "execution_count": 11,
   "metadata": {},
   "outputs": [],
   "source": [
    "def create_fp_input():\n",
    "#     print('file_dataset = ./smiles_df.csv')\n",
    "#     print('col_smiles = SMILES')\n",
    "#     print('col_X = aT bT m e')\n",
    "#     print('col_id = ID')\n",
    "#     print('file_fingerprint = fp_df.csv')\n",
    "#     print('polymer_fp_version = 2')\n",
    "#     print('ismolecule = 0')\n",
    "#     print('drop_failed_rows = 0')\n",
    "#     print('ncore = 18')\n",
    "    f = ('file_dataset = ./smiles_df.csv\\n'\n",
    "    'col_smiles = SMILES\\n'\n",
    "    'col_X = aT bT m e\\n'\n",
    "    'col_id = ID\\n'\n",
    "    'file_fingerprint = fp_df.csv\\n'\n",
    "    'polymer_fp_version = 2\\n'\n",
    "    'ismolecule = 0\\n'\n",
    "    'drop_failed_rows = 0\\n'\n",
    "    'ncore = 18\\n')\n",
    "    text_file = open('fp_input', \"w\")\n",
    "    text_file.write(f)\n",
    "    text_file.close()"
   ]
  },
  {
   "cell_type": "code",
   "execution_count": 13,
   "metadata": {},
   "outputs": [],
   "source": [
    "def run_fp():\n",
    "    os.system('fp fp_input')"
   ]
  },
  {
   "cell_type": "code",
   "execution_count": 20,
   "metadata": {},
   "outputs": [],
   "source": [
    "def create_pred_input(model_path):\n",
    "    f = ('file_model = ' + model_path + '\\n'\n",
    "    'file_fingerprint  = fp_df.csv\\n'\n",
    "    'file_output = output.csv\\n'\n",
    "    )\n",
    "    text_file = open('pred_input', \"w\")\n",
    "    text_file.write(f)\n",
    "    text_file.close()    "
   ]
  },
  {
   "cell_type": "code",
   "execution_count": 22,
   "metadata": {},
   "outputs": [],
   "source": [
    "def run_pred():\n",
    "    os.system('predict pred_input > log')"
   ]
  },
  {
   "cell_type": "code",
   "execution_count": 28,
   "metadata": {},
   "outputs": [],
   "source": [
    "def get_pred():\n",
    "    \n",
    "    df = pd.read_csv('output.csv')\n",
    "    return df['y'].tolist()"
   ]
  },
  {
   "cell_type": "code",
   "execution_count": 2,
   "metadata": {},
   "outputs": [],
   "source": [
    "def get_all_preds(l):\n",
    "    poly_l = [polymerize(i) for i in l]\n",
    "    save_fp_df(poly_l)\n",
    "\n",
    "    create_fp_input()\n",
    "\n",
    "    run_fp()\n",
    "\n",
    "    create_pred_input(model_path)\n",
    "\n",
    "    run_pred()\n",
    "\n",
    "    return get_pred()    "
   ]
  },
  {
   "cell_type": "code",
   "execution_count": 5,
   "metadata": {},
   "outputs": [],
   "source": [
    "def main():\n",
    "    ys = []\n",
    "    xs = []\n",
    "    sim2Ds = []\n",
    "    for line in sys.stdin:\n",
    "        x,y = line.split()\n",
    "        ys.append(y)\n",
    "        xs.append(x)\n",
    "        if y == \"None\": y = None\n",
    "        sim2Ds.append(similarity(x, y))\n",
    "    outs = get_all_preds(ys)\n",
    "    for ind, y in enumerate(ys):\n",
    "        x = xs[ind]\n",
    "        sim2D = sim2Ds[ind]\n",
    "        out = outs[ind]\n",
    "        try:\n",
    "            print x, y, sim2D, out\n",
    "        except Exception as e:\n",
    "            print x, y, sim2D, 0.0"
   ]
  },
  {
   "cell_type": "markdown",
   "metadata": {},
   "source": [
    "# Test functions"
   ]
  },
  {
   "cell_type": "code",
   "execution_count": 6,
   "metadata": {},
   "outputs": [
    {
     "data": {
      "text/plain": [
       "['[*]CCCC[*]', '[*]CC(CC)C1=CC=CC=C1[*]']"
      ]
     },
     "execution_count": 6,
     "metadata": {},
     "output_type": "execute_result"
    }
   ],
   "source": [
    "poly_l = [polymerize(i) for i in l]\n",
    "poly_l"
   ]
  },
  {
   "cell_type": "code",
   "execution_count": 13,
   "metadata": {},
   "outputs": [],
   "source": [
    "save_fp_df(poly_l)"
   ]
  },
  {
   "cell_type": "code",
   "execution_count": 12,
   "metadata": {},
   "outputs": [],
   "source": [
    "create_fp_input()"
   ]
  },
  {
   "cell_type": "code",
   "execution_count": 18,
   "metadata": {},
   "outputs": [],
   "source": [
    "run_fp()"
   ]
  },
  {
   "cell_type": "code",
   "execution_count": 21,
   "metadata": {},
   "outputs": [],
   "source": [
    "create_pred_input(model_path)"
   ]
  },
  {
   "cell_type": "code",
   "execution_count": 23,
   "metadata": {},
   "outputs": [],
   "source": [
    "run_pred()"
   ]
  },
  {
   "cell_type": "code",
   "execution_count": 29,
   "metadata": {},
   "outputs": [
    {
     "data": {
      "text/plain": [
       "[1.4657200000000001, 0.342634]"
      ]
     },
     "execution_count": 29,
     "metadata": {},
     "output_type": "execute_result"
    }
   ],
   "source": [
    "get_pred()"
   ]
  },
  {
   "cell_type": "code",
   "execution_count": null,
   "metadata": {},
   "outputs": [],
   "source": []
  }
 ],
 "metadata": {
  "kernelspec": {
   "display_name": "Python (cse6250)",
   "language": "python",
   "name": "cse6250"
  },
  "language_info": {
   "codemirror_mode": {
    "name": "ipython",
    "version": 2
   },
   "file_extension": ".py",
   "mimetype": "text/x-python",
   "name": "python",
   "nbconvert_exporter": "python",
   "pygments_lexer": "ipython2",
   "version": "2.7.17"
  }
 },
 "nbformat": 4,
 "nbformat_minor": 2
}
