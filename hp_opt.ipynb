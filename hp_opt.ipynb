{
 "cells": [
  {
   "cell_type": "code",
   "execution_count": 6,
   "metadata": {},
   "outputs": [],
   "source": [
    "import os"
   ]
  },
  {
   "cell_type": "code",
   "execution_count": 4,
   "metadata": {},
   "outputs": [],
   "source": [
    "params = {'lr': [.001, .005, .0002],\n",
    "         'batch_size': [8, 32, 128],\n",
    "          'depthT': [3, 6, 10],\n",
    "          'depthG': [3, 5, 8]\n",
    "         }"
   ]
  },
  {
   "cell_type": "code",
   "execution_count": 5,
   "metadata": {},
   "outputs": [],
   "source": [
    "epochs = 2"
   ]
  },
  {
   "cell_type": "code",
   "execution_count": null,
   "metadata": {},
   "outputs": [],
   "source": [
    "n_decode = 5"
   ]
  },
  {
   "cell_type": "code",
   "execution_count": null,
   "metadata": {},
   "outputs": [],
   "source": [
    "bg_path = '~/CS6250_project/models/trial2/all_features/model.pkl'"
   ]
  },
  {
   "cell_type": "code",
   "execution_count": null,
   "metadata": {},
   "outputs": [],
   "source": [
    "best_results = []"
   ]
  },
  {
   "cell_type": "code",
   "execution_count": null,
   "metadata": {},
   "outputs": [],
   "source": [
    "for lr in params['lr']:\n",
    "    path = 'lr_%s/' %lr\n",
    "    if not os.path.exists(path):\n",
    "        os.makedirs(path)\n",
    "        models_dir = path+'newmodels/'\n",
    "        os.makedirs(models_dir)\n",
    "    os.system('python /home/rgur/iclr19-graph2graph/diff_vae/vae_train.py --train processed/ --vocab data/vocab.txt --save_dir %s \\\n",
    "--hidden_size 100 --rand_size 8 --epoch %s --anneal_rate 0.8 --lr %s | tee newmodels/%sLOG' %(models_dir, epochs, models_dir, lr) )\n",
    "    os.system('python /home/rgur/CS6250_project/scripts/val_script.py newmodels/%s %s %s %s > %sbest_of_epoch.txt' %(models_dir, str(epochs), '5', bg_path, path) )\n",
    "    with open('/home/rgur/CS6250_project/g2g/polymers_trial2/results/toy_epoch_results', 'r') as f:\n",
    "        for line in f:\n",
    "            l = line.strip()\n",
    "            if 'Epoch' in l:\n",
    "                n_epoch = l.split(': ')[1]\n",
    "            elif 'Accuracy' in l:    \n",
    "                best_acc  = l.split(': ')[1]\n",
    "    best_results.append((path, epoch, best_acc))\n",
    "srt = sorted(best_results, key=lambda x: x[2], reverse=True)\n",
    "print srt[0]"
   ]
  }
 ],
 "metadata": {
  "kernelspec": {
   "display_name": "Python (cse6250)",
   "language": "python",
   "name": "cse6250"
  },
  "language_info": {
   "codemirror_mode": {
    "name": "ipython",
    "version": 2
   },
   "file_extension": ".py",
   "mimetype": "text/x-python",
   "name": "python",
   "nbconvert_exporter": "python",
   "pygments_lexer": "ipython2",
   "version": "2.7.17"
  }
 },
 "nbformat": 4,
 "nbformat_minor": 2
}
